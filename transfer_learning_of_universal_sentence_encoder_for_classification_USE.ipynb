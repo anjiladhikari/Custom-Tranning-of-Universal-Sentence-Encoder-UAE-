{
  "nbformat": 4,
  "nbformat_minor": 0,
  "metadata": {
    "colab": {
      "provenance": [],
      "collapsed_sections": [
        "Q_eEhY9uYuDS",
        "3YcbRKJJCQNJ"
      ]
    },
    "kernelspec": {
      "name": "python3",
      "display_name": "Python 3"
    },
    "language_info": {
      "name": "python"
    }
  },
  "cells": [
    {
      "cell_type": "markdown",
      "source": [
        "# Basic import and data cleaning"
      ],
      "metadata": {
        "id": "C-HLqf8Xhu0F"
      }
    },
    {
      "cell_type": "code",
      "source": [
        "import numpy as np\n",
        "import pandas as pd"
      ],
      "metadata": {
        "id": "qBoCsrJKPJXw"
      },
      "execution_count": null,
      "outputs": []
    },
    {
      "cell_type": "code",
      "execution_count": null,
      "metadata": {
        "id": "Z0-kU8pUq9cE"
      },
      "outputs": [],
      "source": [
        "\n",
        "# df = pd.read_csv('/content/jd_data_for_train.csv',header=[0])\n",
        "\n",
        "# df = pd.read_csv('/content/jd_data main.csv',header=[0])\n",
        "\n",
        "df = pd.read_csv('/content/jd_for_train_f.csv',header=[0])\n",
        "\n",
        "\n",
        "\n",
        "\n",
        "\n",
        "\n",
        "\n",
        "\n",
        "\n",
        "# df = pd.read_csv('/content/jd_data.csv',header=[0],encoding='cp1252')\n"
      ]
    },
    {
      "cell_type": "code",
      "source": [
        "# df=df.iloc[:200,:]"
      ],
      "metadata": {
        "id": "jg9-4Yr05ioh"
      },
      "execution_count": null,
      "outputs": []
    },
    {
      "cell_type": "code",
      "source": [
        "df.info()"
      ],
      "metadata": {
        "colab": {
          "base_uri": "https://localhost:8080/"
        },
        "id": "SfpfCDAf7DoS",
        "outputId": "382cd853-d05c-4dd5-c618-ac16548d1891"
      },
      "execution_count": null,
      "outputs": [
        {
          "output_type": "stream",
          "name": "stdout",
          "text": [
            "<class 'pandas.core.frame.DataFrame'>\n",
            "RangeIndex: 1904 entries, 0 to 1903\n",
            "Data columns (total 2 columns):\n",
            " #   Column     Non-Null Count  Dtype \n",
            "---  ------     --------------  ----- \n",
            " 0   JD         1904 non-null   object\n",
            " 1   job_title  1904 non-null   int64 \n",
            "dtypes: int64(1), object(1)\n",
            "memory usage: 29.9+ KB\n"
          ]
        }
      ]
    },
    {
      "cell_type": "code",
      "source": [
        "df.columns = ['JD','job_title']"
      ],
      "metadata": {
        "id": "FzmRk-XTwGBN"
      },
      "execution_count": null,
      "outputs": []
    },
    {
      "cell_type": "code",
      "source": [
        "df.head()"
      ],
      "metadata": {
        "id": "x61GtMKUwzWC",
        "colab": {
          "base_uri": "https://localhost:8080/",
          "height": 206
        },
        "outputId": "baf17f90-7616-44d2-87ee-f8f05634b4a8"
      },
      "execution_count": null,
      "outputs": [
        {
          "output_type": "execute_result",
          "data": {
            "text/plain": [
              "                                                  JD  job_title\n",
              "0  The candidate must have around 1-3 years of bl...          0\n",
              "1  Collaborating with managers to determine block...          0\n",
              "2  1) Collaborating with managers to determine bl...          0\n",
              "3  We are looking who can join ASAP on Blockchain...          0\n",
              "4  Candidate should be able to: Collaborate with ...          0"
            ],
            "text/html": [
              "\n",
              "  <div id=\"df-97b34bcb-d0e3-4cea-9a4e-45a0771e693e\">\n",
              "    <div class=\"colab-df-container\">\n",
              "      <div>\n",
              "<style scoped>\n",
              "    .dataframe tbody tr th:only-of-type {\n",
              "        vertical-align: middle;\n",
              "    }\n",
              "\n",
              "    .dataframe tbody tr th {\n",
              "        vertical-align: top;\n",
              "    }\n",
              "\n",
              "    .dataframe thead th {\n",
              "        text-align: right;\n",
              "    }\n",
              "</style>\n",
              "<table border=\"1\" class=\"dataframe\">\n",
              "  <thead>\n",
              "    <tr style=\"text-align: right;\">\n",
              "      <th></th>\n",
              "      <th>JD</th>\n",
              "      <th>job_title</th>\n",
              "    </tr>\n",
              "  </thead>\n",
              "  <tbody>\n",
              "    <tr>\n",
              "      <th>0</th>\n",
              "      <td>The candidate must have around 1-3 years of bl...</td>\n",
              "      <td>0</td>\n",
              "    </tr>\n",
              "    <tr>\n",
              "      <th>1</th>\n",
              "      <td>Collaborating with managers to determine block...</td>\n",
              "      <td>0</td>\n",
              "    </tr>\n",
              "    <tr>\n",
              "      <th>2</th>\n",
              "      <td>1) Collaborating with managers to determine bl...</td>\n",
              "      <td>0</td>\n",
              "    </tr>\n",
              "    <tr>\n",
              "      <th>3</th>\n",
              "      <td>We are looking who can join ASAP on Blockchain...</td>\n",
              "      <td>0</td>\n",
              "    </tr>\n",
              "    <tr>\n",
              "      <th>4</th>\n",
              "      <td>Candidate should be able to: Collaborate with ...</td>\n",
              "      <td>0</td>\n",
              "    </tr>\n",
              "  </tbody>\n",
              "</table>\n",
              "</div>\n",
              "      <button class=\"colab-df-convert\" onclick=\"convertToInteractive('df-97b34bcb-d0e3-4cea-9a4e-45a0771e693e')\"\n",
              "              title=\"Convert this dataframe to an interactive table.\"\n",
              "              style=\"display:none;\">\n",
              "        \n",
              "  <svg xmlns=\"http://www.w3.org/2000/svg\" height=\"24px\"viewBox=\"0 0 24 24\"\n",
              "       width=\"24px\">\n",
              "    <path d=\"M0 0h24v24H0V0z\" fill=\"none\"/>\n",
              "    <path d=\"M18.56 5.44l.94 2.06.94-2.06 2.06-.94-2.06-.94-.94-2.06-.94 2.06-2.06.94zm-11 1L8.5 8.5l.94-2.06 2.06-.94-2.06-.94L8.5 2.5l-.94 2.06-2.06.94zm10 10l.94 2.06.94-2.06 2.06-.94-2.06-.94-.94-2.06-.94 2.06-2.06.94z\"/><path d=\"M17.41 7.96l-1.37-1.37c-.4-.4-.92-.59-1.43-.59-.52 0-1.04.2-1.43.59L10.3 9.45l-7.72 7.72c-.78.78-.78 2.05 0 2.83L4 21.41c.39.39.9.59 1.41.59.51 0 1.02-.2 1.41-.59l7.78-7.78 2.81-2.81c.8-.78.8-2.07 0-2.86zM5.41 20L4 18.59l7.72-7.72 1.47 1.35L5.41 20z\"/>\n",
              "  </svg>\n",
              "      </button>\n",
              "      \n",
              "  <style>\n",
              "    .colab-df-container {\n",
              "      display:flex;\n",
              "      flex-wrap:wrap;\n",
              "      gap: 12px;\n",
              "    }\n",
              "\n",
              "    .colab-df-convert {\n",
              "      background-color: #E8F0FE;\n",
              "      border: none;\n",
              "      border-radius: 50%;\n",
              "      cursor: pointer;\n",
              "      display: none;\n",
              "      fill: #1967D2;\n",
              "      height: 32px;\n",
              "      padding: 0 0 0 0;\n",
              "      width: 32px;\n",
              "    }\n",
              "\n",
              "    .colab-df-convert:hover {\n",
              "      background-color: #E2EBFA;\n",
              "      box-shadow: 0px 1px 2px rgba(60, 64, 67, 0.3), 0px 1px 3px 1px rgba(60, 64, 67, 0.15);\n",
              "      fill: #174EA6;\n",
              "    }\n",
              "\n",
              "    [theme=dark] .colab-df-convert {\n",
              "      background-color: #3B4455;\n",
              "      fill: #D2E3FC;\n",
              "    }\n",
              "\n",
              "    [theme=dark] .colab-df-convert:hover {\n",
              "      background-color: #434B5C;\n",
              "      box-shadow: 0px 1px 3px 1px rgba(0, 0, 0, 0.15);\n",
              "      filter: drop-shadow(0px 1px 2px rgba(0, 0, 0, 0.3));\n",
              "      fill: #FFFFFF;\n",
              "    }\n",
              "  </style>\n",
              "\n",
              "      <script>\n",
              "        const buttonEl =\n",
              "          document.querySelector('#df-97b34bcb-d0e3-4cea-9a4e-45a0771e693e button.colab-df-convert');\n",
              "        buttonEl.style.display =\n",
              "          google.colab.kernel.accessAllowed ? 'block' : 'none';\n",
              "\n",
              "        async function convertToInteractive(key) {\n",
              "          const element = document.querySelector('#df-97b34bcb-d0e3-4cea-9a4e-45a0771e693e');\n",
              "          const dataTable =\n",
              "            await google.colab.kernel.invokeFunction('convertToInteractive',\n",
              "                                                     [key], {});\n",
              "          if (!dataTable) return;\n",
              "\n",
              "          const docLinkHtml = 'Like what you see? Visit the ' +\n",
              "            '<a target=\"_blank\" href=https://colab.research.google.com/notebooks/data_table.ipynb>data table notebook</a>'\n",
              "            + ' to learn more about interactive tables.';\n",
              "          element.innerHTML = '';\n",
              "          dataTable['output_type'] = 'display_data';\n",
              "          await google.colab.output.renderOutput(dataTable, element);\n",
              "          const docLink = document.createElement('div');\n",
              "          docLink.innerHTML = docLinkHtml;\n",
              "          element.appendChild(docLink);\n",
              "        }\n",
              "      </script>\n",
              "    </div>\n",
              "  </div>\n",
              "  "
            ]
          },
          "metadata": {},
          "execution_count": 11
        }
      ]
    },
    {
      "cell_type": "code",
      "source": [
        "df.tail()"
      ],
      "metadata": {
        "colab": {
          "base_uri": "https://localhost:8080/",
          "height": 206
        },
        "id": "ChgYbJRXOijC",
        "outputId": "dae16720-e121-4de0-d074-04125ccdd174"
      },
      "execution_count": null,
      "outputs": [
        {
          "output_type": "execute_result",
          "data": {
            "text/plain": [
              "                                                     JD  job_title\n",
              "1899  Favor’s mission is ‘Anything Delivered’. Our E...         10\n",
              "1900  --------------\\nAbout the team\\n--------------...         10\n",
              "1901  ABOUT ENVIEW\\n\\nEnview creates a digital twin ...         10\n",
              "1902  Description:At Lockheed Martin Rotary & Missio...         10\n",
              "1903  Staff Data Scientist - EngineeringFor the firs...         10"
            ],
            "text/html": [
              "\n",
              "  <div id=\"df-52dd0f11-c43c-432b-8b01-d91f03d791e6\">\n",
              "    <div class=\"colab-df-container\">\n",
              "      <div>\n",
              "<style scoped>\n",
              "    .dataframe tbody tr th:only-of-type {\n",
              "        vertical-align: middle;\n",
              "    }\n",
              "\n",
              "    .dataframe tbody tr th {\n",
              "        vertical-align: top;\n",
              "    }\n",
              "\n",
              "    .dataframe thead th {\n",
              "        text-align: right;\n",
              "    }\n",
              "</style>\n",
              "<table border=\"1\" class=\"dataframe\">\n",
              "  <thead>\n",
              "    <tr style=\"text-align: right;\">\n",
              "      <th></th>\n",
              "      <th>JD</th>\n",
              "      <th>job_title</th>\n",
              "    </tr>\n",
              "  </thead>\n",
              "  <tbody>\n",
              "    <tr>\n",
              "      <th>1899</th>\n",
              "      <td>Favor’s mission is ‘Anything Delivered’. Our E...</td>\n",
              "      <td>10</td>\n",
              "    </tr>\n",
              "    <tr>\n",
              "      <th>1900</th>\n",
              "      <td>--------------\\nAbout the team\\n--------------...</td>\n",
              "      <td>10</td>\n",
              "    </tr>\n",
              "    <tr>\n",
              "      <th>1901</th>\n",
              "      <td>ABOUT ENVIEW\\n\\nEnview creates a digital twin ...</td>\n",
              "      <td>10</td>\n",
              "    </tr>\n",
              "    <tr>\n",
              "      <th>1902</th>\n",
              "      <td>Description:At Lockheed Martin Rotary &amp; Missio...</td>\n",
              "      <td>10</td>\n",
              "    </tr>\n",
              "    <tr>\n",
              "      <th>1903</th>\n",
              "      <td>Staff Data Scientist - EngineeringFor the firs...</td>\n",
              "      <td>10</td>\n",
              "    </tr>\n",
              "  </tbody>\n",
              "</table>\n",
              "</div>\n",
              "      <button class=\"colab-df-convert\" onclick=\"convertToInteractive('df-52dd0f11-c43c-432b-8b01-d91f03d791e6')\"\n",
              "              title=\"Convert this dataframe to an interactive table.\"\n",
              "              style=\"display:none;\">\n",
              "        \n",
              "  <svg xmlns=\"http://www.w3.org/2000/svg\" height=\"24px\"viewBox=\"0 0 24 24\"\n",
              "       width=\"24px\">\n",
              "    <path d=\"M0 0h24v24H0V0z\" fill=\"none\"/>\n",
              "    <path d=\"M18.56 5.44l.94 2.06.94-2.06 2.06-.94-2.06-.94-.94-2.06-.94 2.06-2.06.94zm-11 1L8.5 8.5l.94-2.06 2.06-.94-2.06-.94L8.5 2.5l-.94 2.06-2.06.94zm10 10l.94 2.06.94-2.06 2.06-.94-2.06-.94-.94-2.06-.94 2.06-2.06.94z\"/><path d=\"M17.41 7.96l-1.37-1.37c-.4-.4-.92-.59-1.43-.59-.52 0-1.04.2-1.43.59L10.3 9.45l-7.72 7.72c-.78.78-.78 2.05 0 2.83L4 21.41c.39.39.9.59 1.41.59.51 0 1.02-.2 1.41-.59l7.78-7.78 2.81-2.81c.8-.78.8-2.07 0-2.86zM5.41 20L4 18.59l7.72-7.72 1.47 1.35L5.41 20z\"/>\n",
              "  </svg>\n",
              "      </button>\n",
              "      \n",
              "  <style>\n",
              "    .colab-df-container {\n",
              "      display:flex;\n",
              "      flex-wrap:wrap;\n",
              "      gap: 12px;\n",
              "    }\n",
              "\n",
              "    .colab-df-convert {\n",
              "      background-color: #E8F0FE;\n",
              "      border: none;\n",
              "      border-radius: 50%;\n",
              "      cursor: pointer;\n",
              "      display: none;\n",
              "      fill: #1967D2;\n",
              "      height: 32px;\n",
              "      padding: 0 0 0 0;\n",
              "      width: 32px;\n",
              "    }\n",
              "\n",
              "    .colab-df-convert:hover {\n",
              "      background-color: #E2EBFA;\n",
              "      box-shadow: 0px 1px 2px rgba(60, 64, 67, 0.3), 0px 1px 3px 1px rgba(60, 64, 67, 0.15);\n",
              "      fill: #174EA6;\n",
              "    }\n",
              "\n",
              "    [theme=dark] .colab-df-convert {\n",
              "      background-color: #3B4455;\n",
              "      fill: #D2E3FC;\n",
              "    }\n",
              "\n",
              "    [theme=dark] .colab-df-convert:hover {\n",
              "      background-color: #434B5C;\n",
              "      box-shadow: 0px 1px 3px 1px rgba(0, 0, 0, 0.15);\n",
              "      filter: drop-shadow(0px 1px 2px rgba(0, 0, 0, 0.3));\n",
              "      fill: #FFFFFF;\n",
              "    }\n",
              "  </style>\n",
              "\n",
              "      <script>\n",
              "        const buttonEl =\n",
              "          document.querySelector('#df-52dd0f11-c43c-432b-8b01-d91f03d791e6 button.colab-df-convert');\n",
              "        buttonEl.style.display =\n",
              "          google.colab.kernel.accessAllowed ? 'block' : 'none';\n",
              "\n",
              "        async function convertToInteractive(key) {\n",
              "          const element = document.querySelector('#df-52dd0f11-c43c-432b-8b01-d91f03d791e6');\n",
              "          const dataTable =\n",
              "            await google.colab.kernel.invokeFunction('convertToInteractive',\n",
              "                                                     [key], {});\n",
              "          if (!dataTable) return;\n",
              "\n",
              "          const docLinkHtml = 'Like what you see? Visit the ' +\n",
              "            '<a target=\"_blank\" href=https://colab.research.google.com/notebooks/data_table.ipynb>data table notebook</a>'\n",
              "            + ' to learn more about interactive tables.';\n",
              "          element.innerHTML = '';\n",
              "          dataTable['output_type'] = 'display_data';\n",
              "          await google.colab.output.renderOutput(dataTable, element);\n",
              "          const docLink = document.createElement('div');\n",
              "          docLink.innerHTML = docLinkHtml;\n",
              "          element.appendChild(docLink);\n",
              "        }\n",
              "      </script>\n",
              "    </div>\n",
              "  </div>\n",
              "  "
            ]
          },
          "metadata": {},
          "execution_count": 12
        }
      ]
    },
    {
      "cell_type": "code",
      "source": [
        "df.shape"
      ],
      "metadata": {
        "id": "m4SsVTW2N1SH",
        "colab": {
          "base_uri": "https://localhost:8080/"
        },
        "outputId": "ef4f5bdf-cb3a-4893-aaef-1c397de78d10"
      },
      "execution_count": null,
      "outputs": [
        {
          "output_type": "execute_result",
          "data": {
            "text/plain": [
              "(1904, 2)"
            ]
          },
          "metadata": {},
          "execution_count": 13
        }
      ]
    },
    {
      "cell_type": "markdown",
      "source": [
        "## Finding unique values and its count in datset"
      ],
      "metadata": {
        "id": "rhP7m9wDiFcC"
      }
    },
    {
      "cell_type": "code",
      "source": [
        "print(df['job_title'].unique())"
      ],
      "metadata": {
        "id": "ykle0jZO-f-N",
        "colab": {
          "base_uri": "https://localhost:8080/"
        },
        "outputId": "919bdddb-cdee-4736-95bd-7fc629713328"
      },
      "execution_count": null,
      "outputs": [
        {
          "output_type": "stream",
          "name": "stdout",
          "text": [
            "[ 0  1  2  3  4  5  6  7  8  9 10]\n"
          ]
        }
      ]
    },
    {
      "cell_type": "code",
      "source": [
        "# e=['11']\n",
        "# b=df[\"job_title\"].isin(e)\n",
        "# df[b]"
      ],
      "metadata": {
        "id": "wvs7wDvTzoU1"
      },
      "execution_count": null,
      "outputs": []
    },
    {
      "cell_type": "code",
      "source": [
        "item_counts = df[\"job_title\"].value_counts()\n",
        "print(item_counts)"
      ],
      "metadata": {
        "id": "sr3XvpOq_Rak",
        "colab": {
          "base_uri": "https://localhost:8080/"
        },
        "outputId": "3937a30c-bbcf-46e3-d60b-a9fed3556f8b"
      },
      "execution_count": null,
      "outputs": [
        {
          "output_type": "stream",
          "name": "stdout",
          "text": [
            "4     184\n",
            "7     180\n",
            "6     175\n",
            "10    175\n",
            "0     173\n",
            "2     171\n",
            "3     171\n",
            "8     171\n",
            "9     171\n",
            "1     170\n",
            "5     163\n",
            "Name: job_title, dtype: int64\n"
          ]
        }
      ]
    },
    {
      "cell_type": "code",
      "source": [
        "item_counts = df[\"job_title\"].value_counts()\n",
        "print(item_counts)"
      ],
      "metadata": {
        "id": "C7ZD9iMmZb3E"
      },
      "execution_count": null,
      "outputs": []
    },
    {
      "cell_type": "code",
      "source": [
        "# # Get one hot encoding of columns B\n",
        "# one_hot = pd.get_dummies(df['job_title'])\n",
        "# # Drop column B as it is now encoded\n",
        "# df = df.drop('job_title',axis = 1)\n",
        "# # Join the encoded df\n",
        "# df = df.join(one_hot)"
      ],
      "metadata": {
        "id": "_rh8iAv0hjB-"
      },
      "execution_count": null,
      "outputs": []
    },
    {
      "cell_type": "code",
      "source": [
        "from sklearn.model_selection import train_test_split\n",
        "\n",
        "x_train, x_test, y_train, y_test = train_test_split(df['JD'], \n",
        "                                                    df['job_title'], \n",
        "                                                    test_size=0.3, \n",
        "                                                    stratify=df['job_title'], \n",
        "                                                    random_state=42)"
      ],
      "metadata": {
        "id": "iQw9tu98u8Xx"
      },
      "execution_count": null,
      "outputs": []
    },
    {
      "cell_type": "code",
      "source": [
        "print(np.shape(x_train),np.shape(y_train),np.shape(x_test),np.shape(y_test))\n",
        "\n"
      ],
      "metadata": {
        "id": "tTba2L__PC7F",
        "colab": {
          "base_uri": "https://localhost:8080/"
        },
        "outputId": "3d6b36e8-2a53-4891-fe38-ebb5e9e7b2d7"
      },
      "execution_count": null,
      "outputs": [
        {
          "output_type": "stream",
          "name": "stdout",
          "text": [
            "(1332,) (1332,) (572,) (572,)\n"
          ]
        }
      ]
    },
    {
      "cell_type": "markdown",
      "source": [
        "## One hot encoding"
      ],
      "metadata": {
        "id": "yqM0TGcYiOLn"
      }
    },
    {
      "cell_type": "code",
      "source": [
        "y_train = pd.get_dummies(y_train)\n",
        "y_test = pd.get_dummies(y_test)\n"
      ],
      "metadata": {
        "id": "hz4Aju1QkBVS"
      },
      "execution_count": null,
      "outputs": []
    },
    {
      "cell_type": "code",
      "source": [
        "y_test.shape"
      ],
      "metadata": {
        "id": "zQKBXPMSlRyb",
        "colab": {
          "base_uri": "https://localhost:8080/"
        },
        "outputId": "2ddbe203-865d-4ea4-87f2-2d9667996c5e"
      },
      "execution_count": null,
      "outputs": [
        {
          "output_type": "execute_result",
          "data": {
            "text/plain": [
              "(572, 11)"
            ]
          },
          "metadata": {},
          "execution_count": 20
        }
      ]
    },
    {
      "cell_type": "code",
      "source": [
        "import tensorflow_hub as hub\n",
        "\n",
        "# encoder = hub.load('https://tfhub.dev/google/universal-sentence-encoder/4')"
      ],
      "metadata": {
        "id": "FgIhsmeXsI8I"
      },
      "execution_count": null,
      "outputs": []
    },
    {
      "cell_type": "code",
      "source": [
        "import tensorflow as tf\n",
        "model = tf.keras.models.Sequential()"
      ],
      "metadata": {
        "id": "1hLXglEWst4F"
      },
      "execution_count": null,
      "outputs": []
    },
    {
      "cell_type": "markdown",
      "source": [
        "# Pretrain model"
      ],
      "metadata": {
        "id": "tNCBoEf8iWFZ"
      }
    },
    {
      "cell_type": "code",
      "source": [
        "model.add(hub.KerasLayer('https://tfhub.dev/google/universal-sentence-encoder/4', \n",
        "                        input_shape=[], \n",
        "                        dtype=tf.string, \n",
        "                        trainable=False))"
      ],
      "metadata": {
        "id": "rgKpGXVOsdAN"
      },
      "execution_count": null,
      "outputs": []
    },
    {
      "cell_type": "code",
      "source": [
        "from keras.layers import Activation, Dense"
      ],
      "metadata": {
        "id": "3TGodVkTVdkO"
      },
      "execution_count": null,
      "outputs": []
    },
    {
      "cell_type": "code",
      "source": [
        "model.add(Dense(4, activation='relu'))\n",
        "model.add(tf.keras.layers.Dense(11, activation='sigmoid'))\n"
      ],
      "metadata": {
        "id": "dJncnPh8se-z"
      },
      "execution_count": null,
      "outputs": []
    },
    {
      "cell_type": "code",
      "source": [
        "model.compile(optimizer='adam', \n",
        "              loss='categorical_crossentropy', \n",
        "              metrics=['accuracy'])"
      ],
      "metadata": {
        "id": "tE6ufXvesgiq"
      },
      "execution_count": null,
      "outputs": []
    },
    {
      "cell_type": "code",
      "source": [
        "model.summary()"
      ],
      "metadata": {
        "id": "ZL1X19_KLoS9",
        "colab": {
          "base_uri": "https://localhost:8080/"
        },
        "outputId": "431626ef-ef72-44d7-e1d0-212ccd9eb450"
      },
      "execution_count": null,
      "outputs": [
        {
          "output_type": "stream",
          "name": "stdout",
          "text": [
            "Model: \"sequential\"\n",
            "_________________________________________________________________\n",
            " Layer (type)                Output Shape              Param #   \n",
            "=================================================================\n",
            " keras_layer (KerasLayer)    (None, 512)               256797824 \n",
            "                                                                 \n",
            " dense (Dense)               (None, 4)                 2052      \n",
            "                                                                 \n",
            " dense_1 (Dense)             (None, 11)                55        \n",
            "                                                                 \n",
            "=================================================================\n",
            "Total params: 256,799,931\n",
            "Trainable params: 2,107\n",
            "Non-trainable params: 256,797,824\n",
            "_________________________________________________________________\n"
          ]
        }
      ]
    },
    {
      "cell_type": "code",
      "source": [
        "# [print(i.shape, i.dtype) for i in model.inputs]\n",
        "# [print(o.shape, o.dtype) for o in model.outputs]\n",
        "# [print(l.name, l.input_shape, l.dtype) for l in model.layers]"
      ],
      "metadata": {
        "id": "C9S-D5fOXypX"
      },
      "execution_count": null,
      "outputs": []
    },
    {
      "cell_type": "markdown",
      "source": [
        "# Train"
      ],
      "metadata": {
        "id": "MV4C65zL-_h4"
      }
    },
    {
      "cell_type": "code",
      "source": [
        "history=model.fit(x_train,  y_train, epochs=260,  validation_data=(x_test, y_test))"
      ],
      "metadata": {
        "id": "sPk7_KcJsxwh"
      },
      "execution_count": null,
      "outputs": []
    },
    {
      "cell_type": "code",
      "source": [
        "import matplotlib.pyplot as plt"
      ],
      "metadata": {
        "id": "JBXqJP0nmpEw"
      },
      "execution_count": null,
      "outputs": []
    },
    {
      "cell_type": "code",
      "source": [
        "loss_train = history.history['loss']\n",
        "loss_val = history.history['val_loss']\n",
        "epochs = range(1,261)\n",
        "plt.plot(epochs, loss_train, 'g', label='Training loss')\n",
        "plt.plot(epochs, loss_val, 'b', label='validation loss')\n",
        "plt.title('Training and Validation loss')\n",
        "plt.xlabel('Epochs')\n",
        "plt.ylabel('Loss')\n",
        "plt.legend()\n",
        "plt.show()"
      ],
      "metadata": {
        "colab": {
          "base_uri": "https://localhost:8080/",
          "height": 295
        },
        "id": "VRY3eSjqkljv",
        "outputId": "7c936619-f36c-4976-cba0-0d1301abe35e"
      },
      "execution_count": null,
      "outputs": [
        {
          "output_type": "display_data",
          "data": {
            "text/plain": [
              "<Figure size 432x288 with 1 Axes>"
            ],
            "image/png": "[encoded data removed]"
          },
          "metadata": {
            "needs_background": "light"
          }
        }
      ]
    },
    {
      "cell_type": "code",
      "source": [
        "loss_train = history.history['accuracy']\n",
        "loss_val = history.history['val_accuracy']\n",
        "epochs = range(1,261)\n",
        "plt.plot(epochs, loss_train, 'g', label='Training accuracy')\n",
        "plt.plot(epochs, loss_val, 'b', label='validation accuracy')\n",
        "plt.title('Training and Validation accuracy')\n",
        "plt.xlabel('Epochs')\n",
        "plt.ylabel('Accuracy')\n",
        "plt.legend()\n",
        "plt.show()"
      ],
      "metadata": {
        "colab": {
          "base_uri": "https://localhost:8080/",
          "height": 295
        },
        "id": "sLBCIQxmmk0d",
        "outputId": "a993e6b0-7d90-470c-c819-88081c0aaba4"
      },
      "execution_count": null,
      "outputs": [
        {
          "output_type": "display_data",
          "data": {
            "text/plain": [
              "<Figure size 432x288 with 1 Axes>"
            ],
            "image/png": "[encoded data removed]"
          },
          "metadata": {
            "needs_background": "light"
          }
        }
      ]
    },
    {
      "cell_type": "markdown",
      "source": [
        "# Text extraction and cleaning"
      ],
      "metadata": {
        "id": "SwcPSVo6irAU"
      }
    },
    {
      "cell_type": "code",
      "source": [
        "!pip install PyMuPDF"
      ],
      "metadata": {
        "colab": {
          "base_uri": "https://localhost:8080/"
        },
        "id": "7P_tCetwxjrF",
        "outputId": "86c40c3a-20bc-4e04-f839-2952823dacd8"
      },
      "execution_count": null,
      "outputs": [
        {
          "output_type": "stream",
          "name": "stdout",
          "text": [
            "Looking in indexes: https://pypi.org/simple, https://us-python.pkg.dev/colab-wheels/public/simple/\n",
            "Collecting PyMuPDF\n",
            "  Downloading PyMuPDF-1.21.0-cp37-cp37m-manylinux_2_17_x86_64.manylinux2014_x86_64.whl (14.0 MB)\n",
            "\u001b[K     |████████████████████████████████| 14.0 MB 4.1 MB/s \n",
            "\u001b[?25hInstalling collected packages: PyMuPDF\n",
            "Successfully installed PyMuPDF-1.21.0\n"
          ]
        }
      ]
    },
    {
      "cell_type": "code",
      "source": [
        "import fitz\n",
        "import re    #module for regular expression operations\n"
      ],
      "metadata": {
        "id": "-a6g4s2iyloU"
      },
      "execution_count": null,
      "outputs": []
    },
    {
      "cell_type": "code",
      "source": [
        "def pymupdf_extract(file_path):\n",
        "  # OCR the PDF using the default 'text' parameter\n",
        "  ocr_text=[]\n",
        "  with fitz.open(file_path) as doc:\n",
        "      for page in doc:\n",
        "          text = page.get_text()\n",
        "          ocr_text.append(text)\n",
        "          # print(text)\n",
        "  return ocr_text"
      ],
      "metadata": {
        "id": "w9NmHN0cyoco"
      },
      "execution_count": null,
      "outputs": []
    },
    {
      "cell_type": "code",
      "source": [
        "def cleaning(text):\n",
        "    text_data=re.sub(r'\\\\n', ' ',text)\n",
        "    text_data=text_data.strip()\n",
        "    text_data=text_data.lower()\n",
        "    text_data=text_data.replace('education',' ')\n",
        "    text_data=text_data.replace('experience',' ')\n",
        "    text_data=text_data.replace('skills',' ')\n",
        "    text_data=text_data.replace('university',' ')\n",
        "    text_data=text_data.replace('gmail',' ')\n",
        "    text_data=text_data.replace('objective',' ')\n",
        "    text_data=text_data.replace('about',' ')\n",
        "    text_data=text_data.replace('fusemachines',' ')\n",
        "    text_data=text_data.replace('responsibilities',' ')\n",
        "    text_data=re.sub(r'https?:\\/\\/.*?[\\s+]', ' ', text_data)\n",
        "    text_data= re.sub(r'[^a-z]', ' ',text_data )\n",
        "    # print(text_data)\n",
        "    return text_data"
      ],
      "metadata": {
        "id": "ta52YueTzOP4"
      },
      "execution_count": null,
      "outputs": []
    },
    {
      "cell_type": "code",
      "source": [
        "#demo\n",
        "model.predict([\" anjil adhikari is machine learning engineer\"])"
      ],
      "metadata": {
        "id": "Lc4QFqB22CWR",
        "colab": {
          "base_uri": "https://localhost:8080/"
        },
        "outputId": "f7972144-a13c-4d36-c896-33bdc8d96079"
      },
      "execution_count": null,
      "outputs": [
        {
          "output_type": "stream",
          "name": "stdout",
          "text": [
            "1/1 [==============================] - 1s 624ms/step\n"
          ]
        },
        {
          "output_type": "execute_result",
          "data": {
            "text/plain": [
              "array([[0.02982932, 0.8303496 , 0.669557  , 0.02056357, 0.0101538 ,\n",
              "        0.01960878, 0.47661346, 0.9737785 , 0.04800992, 0.04518635,\n",
              "        0.97478807]], dtype=float32)"
            ]
          },
          "metadata": {},
          "execution_count": 36
        }
      ]
    },
    {
      "cell_type": "code",
      "source": [
        "def function_pred(cv_p):\n",
        "  cv_path= cv_p\n",
        "  cv_mess_text=pymupdf_extract(cv_path)\n",
        "  cv_clean_text=cleaning((str(cv_mess_text)))\n",
        "  prob=model.predict([cv_clean_text])\n",
        "  return prob\n"
      ],
      "metadata": {
        "id": "EW3ZKmYV22ih"
      },
      "execution_count": null,
      "outputs": []
    },
    {
      "cell_type": "code",
      "source": [
        "# path =\"/content/Data  Engineer/Jain, Rishabh - 2022-06-24 08-08-31.pdf\"\n",
        "\n",
        "\n",
        "# prob=function_pred(path)"
      ],
      "metadata": {
        "colab": {
          "base_uri": "https://localhost:8080/"
        },
        "id": "Vb4i_fiN3UZx",
        "outputId": "1729a73b-ce76-47e8-8233-4474f0165623"
      },
      "execution_count": null,
      "outputs": [
        {
          "output_type": "stream",
          "name": "stdout",
          "text": [
            "1/1 [==============================] - 0s 42ms/step\n"
          ]
        }
      ]
    },
    {
      "cell_type": "markdown",
      "source": [
        "# Updating in sheets function"
      ],
      "metadata": {
        "id": "3YcbRKJJCQNJ"
      }
    },
    {
      "cell_type": "code",
      "source": [
        "from google.colab import auth\n",
        "auth.authenticate_user()\n",
        "import gspread\n",
        "from google.auth import default\n",
        "\n",
        "creds, _ = default()\n",
        "\n",
        "gc = gspread.authorize(creds)"
      ],
      "metadata": {
        "id": "HKAnweVq3RYG"
      },
      "execution_count": null,
      "outputs": []
    },
    {
      "cell_type": "code",
      "source": [
        "def update_cell(number,score):\n",
        "\n",
        "  worksheet = gc.open('prob').sheet1\n",
        "  next = f\"B{number}:L{number}\"\n",
        "  # print(next)\n",
        "  cell_list = worksheet.range(next)\n",
        "  for i,cell in enumerate(cell_list):\n",
        "    cell.value =  score[i]\n",
        "  worksheet.update_cells(cell_list)"
      ],
      "metadata": {
        "id": "BiybtGGr3-mt"
      },
      "execution_count": null,
      "outputs": []
    },
    {
      "cell_type": "code",
      "source": [
        "number= 114"
      ],
      "metadata": {
        "id": "VN3ccmoJ4ASx"
      },
      "execution_count": null,
      "outputs": []
    },
    {
      "cell_type": "markdown",
      "source": [
        "# Update each time"
      ],
      "metadata": {
        "id": "yPYalbymCTsw"
      }
    },
    {
      "cell_type": "code",
      "source": [
        "path =  \"/content/blockchain/acharya, rupak - 2022-06-20 17-40-15.pdf\"\n",
        "prob=function_pred(path)\n",
        "prob=prob.tolist()\n",
        "\n",
        "prob=prob[0]\n",
        "prob =[num*10 for num in prob]\n",
        "update_cell(number,prob)\n",
        "number+=1\n",
        "\n",
        "prob"
      ],
      "metadata": {
        "id": "jpFg0MaaWIjB",
        "colab": {
          "base_uri": "https://localhost:8080/"
        },
        "outputId": "cc1e3a5e-7b08-4745-90aa-e7714b97e840"
      },
      "execution_count": null,
      "outputs": [
        {
          "output_type": "stream",
          "name": "stdout",
          "text": [
            "1/1 [==============================] - 0s 56ms/step\n"
          ]
        },
        {
          "output_type": "execute_result",
          "data": {
            "text/plain": [
              "[9.875483512878418,\n",
              " 2.9730853889908815e-09,\n",
              " 0.0013755662075709552,\n",
              " 0.14660747721791267,\n",
              " 9.068089723587036,\n",
              " 9.407216906547546,\n",
              " 7.922490239143372,\n",
              " 0.07390428334474564,\n",
              " 0.7500558346509933,\n",
              " 9.273894429206848,\n",
              " 1.5885468938534042e-11]"
            ]
          },
          "metadata": {},
          "execution_count": 169
        }
      ]
    }
  ]
}